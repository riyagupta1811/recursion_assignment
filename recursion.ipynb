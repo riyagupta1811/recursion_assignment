{
 "cells": [
  {
   "cell_type": "code",
   "execution_count": null,
   "id": "f56bf43b-c531-4582-b984-a7ebd5aa52e9",
   "metadata": {},
   "outputs": [],
   "source": [
    "#question 3"
   ]
  },
  {
   "cell_type": "code",
   "execution_count": 1,
   "id": "15176ee6-d1a9-45e3-a3a4-e02551264a88",
   "metadata": {},
   "outputs": [
    {
     "name": "stdout",
     "output_type": "stream",
     "text": [
      "The maximum value is: 22\n"
     ]
    }
   ],
   "source": [
    "def find_max_recursive(arr, n):\n",
    "    # Base case: if there's only one element, return it\n",
    "    if n == 1:\n",
    "        return arr[0]\n",
    "    \n",
    "    # Recursively find the max in the rest of the array\n",
    "    max_in_rest = find_max_recursive(arr, n - 1)\n",
    "    \n",
    "    # Return the greater of the current element and the max of the rest\n",
    "    return max(arr[n - 1], max_in_rest)\n",
    "\n",
    "# Array to find the max value\n",
    "array = [13, 1, -3, 22, 5]\n",
    "\n",
    "# Call the recursive function\n",
    "max_value = find_max_recursive(array, len(array))\n",
    "print(\"The maximum value is:\", max_value)\n"
   ]
  },
  {
   "cell_type": "code",
   "execution_count": null,
   "id": "d38a598a-c1df-47e1-b1b8-8a9ea250fd33",
   "metadata": {},
   "outputs": [],
   "source": [
    "#question 4"
   ]
  },
  {
   "cell_type": "code",
   "execution_count": 2,
   "id": "bc25ee37-587e-4df0-8445-31cb2e23b005",
   "metadata": {},
   "outputs": [
    {
     "name": "stdout",
     "output_type": "stream",
     "text": [
      "The sum of the values is: 120\n"
     ]
    }
   ],
   "source": [
    "def find_sum_recursive(arr, n):\n",
    "    # Base case: if the array is empty, the sum is 0\n",
    "    if n == 0:\n",
    "        return 0\n",
    "    \n",
    "    # Recursively find the sum of the rest of the array\n",
    "    return arr[n - 1] + find_sum_recursive(arr, n - 1)\n",
    "\n",
    "# Array to find the sum\n",
    "array = [92, 23, 15, -20, 10]\n",
    "\n",
    "# Call the recursive function\n",
    "sum_value = find_sum_recursive(array, len(array))\n",
    "print(\"The sum of the values is:\", sum_value)\n"
   ]
  },
  {
   "cell_type": "code",
   "execution_count": null,
   "id": "234a425c-c76b-4543-b603-f9cc02ad31d9",
   "metadata": {},
   "outputs": [],
   "source": [
    "#question 5"
   ]
  },
  {
   "cell_type": "code",
   "execution_count": 3,
   "id": "83f41c71-3000-4bc1-9f1e-804856e340f6",
   "metadata": {},
   "outputs": [
    {
     "name": "stdin",
     "output_type": "stream",
     "text": [
      "Enter a number:  153\n"
     ]
    },
    {
     "name": "stdout",
     "output_type": "stream",
     "text": [
      "153 is an Armstrong number.\n"
     ]
    }
   ],
   "source": [
    "def calculate_power_sum(num, power):\n",
    "    # Base case: if num is 0, return 0\n",
    "    if num == 0:\n",
    "        return 0\n",
    "    \n",
    "    # Get the last digit and calculate its power\n",
    "    digit = num % 10\n",
    "    return (digit ** power) + calculate_power_sum(num // 10, power)\n",
    "\n",
    "def is_armstrong_recursive(num):\n",
    "    # Calculate the number of digits\n",
    "    num_digits = len(str(num))\n",
    "    \n",
    "    # Calculate the sum of each digit raised to the power of num_digits\n",
    "    power_sum = calculate_power_sum(num, num_digits)\n",
    "    \n",
    "    # Check if the sum is equal to the original number\n",
    "    return power_sum == num\n",
    "\n",
    "# Input number\n",
    "n = int(input(\"Enter a number: \"))\n",
    "\n",
    "# Check if the number is an Armstrong number\n",
    "if is_armstrong_recursive(n):\n",
    "    print(f\"{n} is an Armstrong number.\")\n",
    "else:\n",
    "    print(f\"{n} is not an Armstrong number.\")\n"
   ]
  },
  {
   "cell_type": "code",
   "execution_count": 4,
   "id": "6f3190fb-c070-4d8f-b6f5-281573ab52d7",
   "metadata": {},
   "outputs": [
    {
     "name": "stdin",
     "output_type": "stream",
     "text": [
      "Enter a number:  134\n"
     ]
    },
    {
     "name": "stdout",
     "output_type": "stream",
     "text": [
      "134 is not an Armstrong number.\n"
     ]
    }
   ],
   "source": [
    "def calculate_power_sum(num, power):\n",
    "    # Base case: if num is 0, return 0\n",
    "    if num == 0:\n",
    "        return 0\n",
    "    \n",
    "    # Get the last digit and calculate its power\n",
    "    digit = num % 10\n",
    "    return (digit ** power) + calculate_power_sum(num // 10, power)\n",
    "\n",
    "def is_armstrong_recursive(num):\n",
    "    # Calculate the number of digits\n",
    "    num_digits = len(str(num))\n",
    "    \n",
    "    # Calculate the sum of each digit raised to the power of num_digits\n",
    "    power_sum = calculate_power_sum(num, num_digits)\n",
    "    \n",
    "    # Check if the sum is equal to the original number\n",
    "    return power_sum == num\n",
    "\n",
    "# Input number\n",
    "n = int(input(\"Enter a number: \"))\n",
    "\n",
    "# Check if the number is an Armstrong number\n",
    "if is_armstrong_recursive(n):\n",
    "    print(f\"{n} is an Armstrong number.\")\n",
    "else:\n",
    "    print(f\"{n} is not an Armstrong number.\")\n"
   ]
  },
  {
   "cell_type": "code",
   "execution_count": null,
   "id": "1767480f-33b7-4910-bea5-33fe916a3a90",
   "metadata": {},
   "outputs": [],
   "source": [
    "#question 2"
   ]
  },
  {
   "cell_type": "code",
   "execution_count": null,
   "id": "081e9ddf-670e-4553-ae3c-bb4eb49bcf8b",
   "metadata": {},
   "outputs": [],
   "source": [
    "#Example1"
   ]
  },
  {
   "cell_type": "code",
   "execution_count": 5,
   "id": "4cc06071-ca70-49cb-af39-0fff0c54500e",
   "metadata": {},
   "outputs": [
    {
     "name": "stdout",
     "output_type": "stream",
     "text": [
      "Minimum number of operations to convert 'horse' to 'ros': 3\n"
     ]
    }
   ],
   "source": [
    "def min_operations(word1, word2, i, j, memo):\n",
    "    # Base case: if one of the strings is empty\n",
    "    if i == len(word1):\n",
    "        return len(word2) - j  # Insert remaining characters of word2\n",
    "    if j == len(word2):\n",
    "        return len(word1) - i  # Delete remaining characters of word1\n",
    "\n",
    "    # Check if the result is already calculated\n",
    "    if (i, j) in memo:\n",
    "        return memo[(i, j)]\n",
    "\n",
    "    # If the current characters are the same, move to the next characters\n",
    "    if word1[i] == word2[j]:\n",
    "        memo[(i, j)] = min_operations(word1, word2, i + 1, j + 1, memo)\n",
    "    else:\n",
    "        # Consider all three operations: insert, delete, replace\n",
    "        insert_op = min_operations(word1, word2, i, j + 1, memo)  # Insert a character\n",
    "        delete_op = min_operations(word1, word2, i + 1, j, memo)  # Delete a character\n",
    "        replace_op = min_operations(word1, word2, i + 1, j + 1, memo)  # Replace a character\n",
    "        \n",
    "        # Take the minimum of the three operations and add 1\n",
    "        memo[(i, j)] = 1 + min(insert_op, delete_op, replace_op)\n",
    "    \n",
    "    return memo[(i, j)]\n",
    "\n",
    "def min_distance(word1, word2):\n",
    "    memo = {}\n",
    "    return min_operations(word1, word2, 0, 0, memo)\n",
    "\n",
    "# Input\n",
    "word1 = \"horse\"\n",
    "word2 = \"ros\"\n",
    "\n",
    "# Calculate and print the minimum operations\n",
    "result = min_distance(word1, word2)\n",
    "print(f\"Minimum number of operations to convert '{word1}' to '{word2}':\", result)\n"
   ]
  },
  {
   "cell_type": "code",
   "execution_count": null,
   "id": "313bcc2f-5da5-41e3-8556-fb6c2ad90ca6",
   "metadata": {},
   "outputs": [],
   "source": [
    "#example2"
   ]
  },
  {
   "cell_type": "code",
   "execution_count": 6,
   "id": "c8a9a9ab-fe3b-49bb-940c-828659925b34",
   "metadata": {},
   "outputs": [
    {
     "name": "stdout",
     "output_type": "stream",
     "text": [
      "Minimum number of operations to convert 'intention' to 'execution': 5\n"
     ]
    }
   ],
   "source": [
    "def min_operations(word1, word2, i, j, memo):\n",
    "    # Base case: if one of the strings is empty\n",
    "    if i == len(word1):\n",
    "        return len(word2) - j  # Insert remaining characters of word2\n",
    "    if j == len(word2):\n",
    "        return len(word1) - i  # Delete remaining characters of word1\n",
    "\n",
    "    # Check if the result is already calculated\n",
    "    if (i, j) in memo:\n",
    "        return memo[(i, j)]\n",
    "\n",
    "    # If the current characters are the same, move to the next characters\n",
    "    if word1[i] == word2[j]:\n",
    "        memo[(i, j)] = min_operations(word1, word2, i + 1, j + 1, memo)\n",
    "    else:\n",
    "        # Consider all three operations: insert, delete, replace\n",
    "        insert_op = min_operations(word1, word2, i, j + 1, memo)  # Insert a character\n",
    "        delete_op = min_operations(word1, word2, i + 1, j, memo)  # Delete a character\n",
    "        replace_op = min_operations(word1, word2, i + 1, j + 1, memo)  # Replace a character\n",
    "        \n",
    "        # Take the minimum of the three operations and add 1\n",
    "        memo[(i, j)] = 1 + min(insert_op, delete_op, replace_op)\n",
    "    \n",
    "    return memo[(i, j)]\n",
    "\n",
    "def min_distance(word1, word2):\n",
    "    memo = {}\n",
    "    return min_operations(word1, word2, 0, 0, memo)\n",
    "\n",
    "# Input\n",
    "word1 = \"intention\"\n",
    "word2 = \"execution\"\n",
    "\n",
    "# Calculate and print the minimum operations\n",
    "result = min_distance(word1, word2)\n",
    "print(f\"Minimum number of operations to convert '{word1}' to '{word2}':\", result)\n"
   ]
  },
  {
   "cell_type": "code",
   "execution_count": null,
   "id": "2047c291-9c38-423e-9c7a-09b390cd4f87",
   "metadata": {},
   "outputs": [],
   "source": [
    "#question 1"
   ]
  },
  {
   "cell_type": "code",
   "execution_count": 7,
   "id": "f3904ad1-eaf4-4d65-837c-e5c6eb9e6e70",
   "metadata": {},
   "outputs": [
    {
     "name": "stdout",
     "output_type": "stream",
     "text": [
      "Steps to solve Tower of Hanoi with 3 disks:\n",
      "Move disk 1 from A to C\n",
      "Move disk 2 from A to B\n",
      "Move disk 1 from C to B\n",
      "Move disk 3 from A to C\n",
      "Move disk 1 from B to A\n",
      "Move disk 2 from B to C\n",
      "Move disk 1 from A to C\n"
     ]
    }
   ],
   "source": [
    "#In python\n",
    "def tower_of_hanoi(n, source, helper, destination):\n",
    "    \"\"\"\n",
    "    Recursive function to solve Tower of Hanoi problem.\n",
    "    :param n: Number of disks\n",
    "    :param source: Source rod\n",
    "    :param helper: Helper rod\n",
    "    :param destination: Destination rod\n",
    "    \"\"\"\n",
    "    # Base case: if there's only one disk, move it directly\n",
    "    if n == 1:\n",
    "        print(f\"Move disk 1 from {source} to {destination}\")\n",
    "        return\n",
    "    \n",
    "    # Step 1: Move n-1 disks from source to helper using destination\n",
    "    tower_of_hanoi(n - 1, source, destination, helper)\n",
    "    \n",
    "    # Step 2: Move the nth (largest) disk from source to destination\n",
    "    print(f\"Move disk {n} from {source} to {destination}\")\n",
    "    \n",
    "    # Step 3: Move n-1 disks from helper to destination using source\n",
    "    tower_of_hanoi(n - 1, helper, source, destination)\n",
    "\n",
    "# Main function to call the recursive function\n",
    "if __name__ == \"__main__\":\n",
    "    n = 3  # Number of disks\n",
    "    print(f\"Steps to solve Tower of Hanoi with {n} disks:\")\n",
    "    tower_of_hanoi(n, 'A', 'B', 'C')  # A is source, B is helper, C is destination\n"
   ]
  },
  {
   "cell_type": "code",
   "execution_count": null,
   "id": "8b5fcc7e-44a0-4f82-b11a-8d21b6a1c1ce",
   "metadata": {},
   "outputs": [],
   "source": []
  }
 ],
 "metadata": {
  "kernelspec": {
   "display_name": "Python 3 (ipykernel)",
   "language": "python",
   "name": "python3"
  },
  "language_info": {
   "codemirror_mode": {
    "name": "ipython",
    "version": 3
   },
   "file_extension": ".py",
   "mimetype": "text/x-python",
   "name": "python",
   "nbconvert_exporter": "python",
   "pygments_lexer": "ipython3",
   "version": "3.12.1"
  }
 },
 "nbformat": 4,
 "nbformat_minor": 5
}
